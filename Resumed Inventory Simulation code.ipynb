{
 "cells": [
  {
   "cell_type": "markdown",
   "metadata": {},
   "source": [
    "Name:Mohamed Yasser Ahmed Mahmoud Omara \n",
    "\n",
    "ID:20191476257"
   ]
  },
  {
   "cell_type": "markdown",
   "metadata": {},
   "source": [
    "#                                   Resumed Inventory code Assignment"
   ]
  },
  {
   "cell_type": "code",
   "execution_count": 1,
   "metadata": {},
   "outputs": [],
   "source": [
    "from decimal import Decimal"
   ]
  },
  {
   "cell_type": "code",
   "execution_count": 2,
   "metadata": {},
   "outputs": [
    {
     "name": "stdout",
     "output_type": "stream",
     "text": [
      "Daily Demand Range: 0-4\n"
     ]
    }
   ],
   "source": [
    "a,b = [int(x) for x in input(\"Daily Demand Range: \").split('-') if x.isdigit()]"
   ]
  },
  {
   "cell_type": "code",
   "execution_count": 3,
   "metadata": {},
   "outputs": [
    {
     "name": "stdout",
     "output_type": "stream",
     "text": [
      "Distribution of Probabilities: 0.1,0.25,0.35,0.21,0.09\n"
     ]
    }
   ],
   "source": [
    "probability = [Decimal(x) for x in input(\"Distribution of Probabilities: \").split(',') if 0<Decimal(x)<1]"
   ]
  },
  {
   "cell_type": "code",
   "execution_count": 4,
   "metadata": {},
   "outputs": [
    {
     "name": "stdout",
     "output_type": "stream",
     "text": [
      "Random Digits: 24,35,65,81,54,3,87,27,73,70,47,45,48,17,9,42,87,26,36,40,7,63,19,88,94\n"
     ]
    }
   ],
   "source": [
    "demand_random = [int(x) for x in input(\"Random Digits: \").split(',') if x.isdigit()]"
   ]
  },
  {
   "cell_type": "code",
   "execution_count": 5,
   "metadata": {},
   "outputs": [
    {
     "name": "stdout",
     "output_type": "stream",
     "text": [
      "\n"
     ]
    }
   ],
   "source": [
    "demand = [[a,b] for a,b in zip(range(a,b+1),probability)]\n",
    "print()"
   ]
  },
  {
   "cell_type": "code",
   "execution_count": 6,
   "metadata": {},
   "outputs": [
    {
     "name": "stdout",
     "output_type": "stream",
     "text": [
      "Lead Time Range: 1-3\n"
     ]
    }
   ],
   "source": [
    "a,b = [int(x) for x in input(\"Lead Time Range: \").split('-') if x.isdigit()]"
   ]
  },
  {
   "cell_type": "code",
   "execution_count": 7,
   "metadata": {},
   "outputs": [
    {
     "name": "stdout",
     "output_type": "stream",
     "text": [
      "Distribution of Probabilities: 0.6,0.3,0.1\n"
     ]
    }
   ],
   "source": [
    "probability = [Decimal(x) for x in input(\"Distribution of Probabilities: \").split(',') if 0<Decimal(x)<1]"
   ]
  },
  {
   "cell_type": "code",
   "execution_count": 8,
   "metadata": {},
   "outputs": [
    {
     "name": "stdout",
     "output_type": "stream",
     "text": [
      "Random Digits: 5,0,3,4,8\n"
     ]
    }
   ],
   "source": [
    "lead_random = [int(x) for x in input(\"Random Digits: \").split(',') if x.isdigit()]"
   ]
  },
  {
   "cell_type": "code",
   "execution_count": 9,
   "metadata": {},
   "outputs": [
    {
     "name": "stdout",
     "output_type": "stream",
     "text": [
      "\n"
     ]
    }
   ],
   "source": [
    "lead = [[a,b] for a,b in zip(range(a,b+1),probability)]\n",
    "print()"
   ]
  },
  {
   "cell_type": "code",
   "execution_count": 10,
   "metadata": {},
   "outputs": [
    {
     "name": "stdout",
     "output_type": "stream",
     "text": [
      "Initial and Maximum Inventory levels: 3,11\n"
     ]
    }
   ],
   "source": [
    "initial, mx = [int(x) for x in input(\"Initial and Maximum Inventory levels: \").split(',') if x.isdigit()]"
   ]
  },
  {
   "cell_type": "code",
   "execution_count": 11,
   "metadata": {},
   "outputs": [
    {
     "name": "stdout",
     "output_type": "stream",
     "text": [
      "Number of Weeks, Days in a week: 5,5\n"
     ]
    }
   ],
   "source": [
    "weeks, days = [int(x) for x in input(\"Number of Weeks, Days in a week: \").split(',') if x.isdigit()]"
   ]
  },
  {
   "cell_type": "code",
   "execution_count": 12,
   "metadata": {},
   "outputs": [
    {
     "name": "stdout",
     "output_type": "stream",
     "text": [
      "Next Shipment Quantity, Days to Arrival: 8,2\n"
     ]
    }
   ],
   "source": [
    "shipment, duration = [int(x) for x in input(\"Next Shipment Quantity, Days to Arrival: \").split(',') if x.isdigit()]"
   ]
  },
  {
   "cell_type": "code",
   "execution_count": 13,
   "metadata": {},
   "outputs": [
    {
     "name": "stdout",
     "output_type": "stream",
     "text": [
      "\n",
      "                        Start       Random Digit              End                     Shipment    Random Digit  Days Until    \n",
      "Cycle       Day         Inventory   (Demand)      Demand      Inventory   Shortage    Quantity    (Lead Time)   Next Shipment \n",
      "==============================================================================================================================\n",
      "1           1           3           24            1           2           0                                     1             \n",
      "            2           2           35            1           1           0                                     0             \n",
      "            3           9           65            2           7           0           \n",
      "            4           7           81            3           4           0           \n",
      "            5           4           54            2           2           0           9           5             1             \n",
      "------------------------------------------------------------------------------------------------------------------------------\n",
      "2           1           2           3             1           1           0                                     0             \n",
      "            2           10          87            3           7           0           \n",
      "            3           7           27            1           6           0           \n",
      "            4           6           73            3           3           0           \n",
      "            5           3           70            2           1           0           10          0             3             \n",
      "------------------------------------------------------------------------------------------------------------------------------\n",
      "3           1           1           47            2           0           1                                     2             \n",
      "            2           0           45            3           0           3                                     1             \n",
      "            3           0           48            5           0           5                                     0             \n",
      "            4           10          17            6           4           0           \n",
      "            5           4           9             1           3           0           8           3             1             \n",
      "------------------------------------------------------------------------------------------------------------------------------\n",
      "4           1           3           42            2           1           0                                     0             \n",
      "            2           9           87            3           6           0           \n",
      "            3           6           26            1           5           0           \n",
      "            4           5           36            2           3           0           \n",
      "            5           3           40            2           1           0           10          4             1             \n",
      "------------------------------------------------------------------------------------------------------------------------------\n",
      "5           1           1           7             1           0           0                                     0             \n",
      "            2           10          63            2           8           0           \n",
      "            3           8           19            1           7           0           \n",
      "            4           7           88            3           4           0           \n",
      "            5           4           94            4           0           0           11          8             2             \n",
      "==============================================================================================================================\n",
      "Shortage: 3 days\n",
      "Average End Inventory: 3.04\n"
     ]
    }
   ],
   "source": [
    "temp, rand = 0, 1\n",
    "for i in range(len(demand)):\n",
    "    temp+=demand[i][1]\n",
    "    demand[i].append(temp)                   \n",
    "    demand[i].append([rand,int(str(demand[i][2]).split('.')[1])+1])\n",
    "    rand = demand[i][3][1]\n",
    "    if rand == 1:\n",
    "        demand[i][3][1] = 10**len(str(demand[i][3][0]))\n",
    "\n",
    "temp, rand = 0, 1\n",
    "for i in range(len(lead)):\n",
    "    temp+=lead[i][1]\n",
    "    lead[i].append(temp)\n",
    "    lead[i].append([rand,int(str(lead[i][2]).split('.')[1])+1])\n",
    "    rand = lead[i][3][1]\n",
    "    if rand == 1:\n",
    "        lead[i][3][1] = 10**len(str(lead[i][3][0]))\n",
    "\n",
    "print()\n",
    "print(\"{0:<12}{0:<12}{1:<12}{2:<14}{0:12}{3:<12}{0:<12}{4:<12}{2:<14}{5:<14}\"\\\n",
    "      .format(\" \",\"Start\",\"Random Digit\",\"End\",\"Shipment\",\"Days Until\"))\n",
    "print(\"{0:<12}{1:<12}{2:<12}{3:<14}{4:<12}{2:<12}{5:<12}{6:<12}{7:<14}{8:<14}\"\\\n",
    "      .format(\"Cycle\",\"Day\",\"Inventory\",\"(Demand)\",\"Demand\",\"Shortage\",\"Quantity\",\"(Lead Time)\",\"Next Shipment\"))\n",
    "print(\"=\"*126)\n",
    "\n",
    "shortage = counter = average = 0\n",
    "for week in range(1,weeks+1):\n",
    "    print(\"{:<12}\".format(week),end='')\n",
    "    temp = duration\n",
    "    for day in range(1,days+1):\n",
    "        index = ((week-1)*days+day)-1\n",
    "        if demand_random[index] == 0:\n",
    "            order = len(demand)+shortage\n",
    "        else:\n",
    "            order = [x[0] for x in demand if demand_random[index] in range(*x[3])][0] + shortage\n",
    "        if day == duration+1:\n",
    "            initial+=shipment\n",
    "        if order > initial:\n",
    "            eventual = 0\n",
    "            shortage = order-initial\n",
    "            counter+=1\n",
    "        else:\n",
    "            eventual = initial-order\n",
    "            shortage = 0\n",
    "            average += eventual\n",
    "        if day != days:\n",
    "            if temp != 0:\n",
    "                temp -= 1\n",
    "                print(\"{0:<12}{1:<12}{2:<14}{3:<12}{4:<12}{5:<12}{6:12}{6:14}{7:<14}\"\\\n",
    "                  .format(day,initial,demand_random[index],order,eventual,shortage,\" \",temp))\n",
    "            else:\n",
    "                print(\"{:<12}{:<12}{:<14}{:<12}{:<12}{:<12}\"\\\n",
    "                  .format(day,initial,demand_random[index],order,eventual,shortage))\n",
    "            print(\"{:12}\".format(\" \"),end='')\n",
    "        else:\n",
    "            print(\"{:<12}{:<12}{:<14}{:<12}{:<12}{:<12}\"\\\n",
    "                  .format(day,initial,demand_random[index],order,eventual,shortage),end='')\n",
    "        initial = eventual\n",
    "    shipment = mx-eventual\n",
    "    if lead_random[week-1] == 0:\n",
    "        duration = len(lead)\n",
    "    else:\n",
    "        duration = [x[0] for x in lead if lead_random[week-1] in range(*x[3])][0]\n",
    "    print(\"{:<12}{:<14}{:<14}\".format(shipment,lead_random[week-1],duration))\n",
    "    if week != weeks: print(\"-\"*126)\n",
    "        \n",
    "print(\"=\"*126)\n",
    "print(\"Shortage:\",counter,\"days\")\n",
    "print(\"Average End Inventory:\",average/(weeks*days))"
   ]
  }
 ],
 "metadata": {
  "kernelspec": {
   "display_name": "Python 3",
   "language": "python",
   "name": "python3"
  },
  "language_info": {
   "codemirror_mode": {
    "name": "ipython",
    "version": 3
   },
   "file_extension": ".py",
   "mimetype": "text/x-python",
   "name": "python",
   "nbconvert_exporter": "python",
   "pygments_lexer": "ipython3",
   "version": "3.8.3"
  }
 },
 "nbformat": 4,
 "nbformat_minor": 4
}
